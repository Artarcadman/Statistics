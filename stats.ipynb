{
 "cells": [
  {
   "cell_type": "code",
   "execution_count": 221,
   "id": "e70672b0",
   "metadata": {},
   "outputs": [],
   "source": [
    "import pandas as pd"
   ]
  },
  {
   "cell_type": "code",
   "execution_count": 222,
   "id": "82ebdf21",
   "metadata": {},
   "outputs": [],
   "source": [
    "df = pd.read_excel(r\"C:\\Users\\artem\\OneDrive\\Рабочий стол\\Лист Microsoft Excel.xlsx\", usecols=\"N\", header=None)\n",
    "df = df[0:100]"
   ]
  },
  {
   "cell_type": "code",
   "execution_count": 223,
   "id": "f4bf5540",
   "metadata": {},
   "outputs": [
    {
     "name": "stdout",
     "output_type": "stream",
     "text": [
      "       13\n",
      "0  -27.26\n",
      "1  -27.16\n",
      "2  -18.05\n",
      "3  -17.43\n",
      "4  -16.02\n",
      "..    ...\n",
      "95  16.19\n",
      "96  20.59\n",
      "97  21.94\n",
      "98  24.02\n",
      "99  26.90\n",
      "\n",
      "[100 rows x 1 columns]\n"
     ]
    }
   ],
   "source": [
    "print(df)\n"
   ]
  },
  {
   "cell_type": "code",
   "execution_count": 224,
   "id": "259c4537",
   "metadata": {},
   "outputs": [
    {
     "data": {
      "text/html": [
       "<div>\n",
       "<style scoped>\n",
       "    .dataframe tbody tr th:only-of-type {\n",
       "        vertical-align: middle;\n",
       "    }\n",
       "\n",
       "    .dataframe tbody tr th {\n",
       "        vertical-align: top;\n",
       "    }\n",
       "\n",
       "    .dataframe thead th {\n",
       "        text-align: right;\n",
       "    }\n",
       "</style>\n",
       "<table border=\"1\" class=\"dataframe\">\n",
       "  <thead>\n",
       "    <tr style=\"text-align: right;\">\n",
       "      <th></th>\n",
       "      <th>Отклонение</th>\n",
       "    </tr>\n",
       "  </thead>\n",
       "  <tbody>\n",
       "    <tr>\n",
       "      <th>0</th>\n",
       "      <td>-27.26</td>\n",
       "    </tr>\n",
       "    <tr>\n",
       "      <th>1</th>\n",
       "      <td>-27.16</td>\n",
       "    </tr>\n",
       "    <tr>\n",
       "      <th>2</th>\n",
       "      <td>-18.05</td>\n",
       "    </tr>\n",
       "    <tr>\n",
       "      <th>3</th>\n",
       "      <td>-17.43</td>\n",
       "    </tr>\n",
       "    <tr>\n",
       "      <th>4</th>\n",
       "      <td>-16.02</td>\n",
       "    </tr>\n",
       "    <tr>\n",
       "      <th>...</th>\n",
       "      <td>...</td>\n",
       "    </tr>\n",
       "    <tr>\n",
       "      <th>95</th>\n",
       "      <td>16.19</td>\n",
       "    </tr>\n",
       "    <tr>\n",
       "      <th>96</th>\n",
       "      <td>20.59</td>\n",
       "    </tr>\n",
       "    <tr>\n",
       "      <th>97</th>\n",
       "      <td>21.94</td>\n",
       "    </tr>\n",
       "    <tr>\n",
       "      <th>98</th>\n",
       "      <td>24.02</td>\n",
       "    </tr>\n",
       "    <tr>\n",
       "      <th>99</th>\n",
       "      <td>26.90</td>\n",
       "    </tr>\n",
       "  </tbody>\n",
       "</table>\n",
       "<p>100 rows × 1 columns</p>\n",
       "</div>"
      ],
      "text/plain": [
       "    Отклонение\n",
       "0       -27.26\n",
       "1       -27.16\n",
       "2       -18.05\n",
       "3       -17.43\n",
       "4       -16.02\n",
       "..         ...\n",
       "95       16.19\n",
       "96       20.59\n",
       "97       21.94\n",
       "98       24.02\n",
       "99       26.90\n",
       "\n",
       "[100 rows x 1 columns]"
      ]
     },
     "execution_count": 224,
     "metadata": {},
     "output_type": "execute_result"
    }
   ],
   "source": [
    "df.describe()\n",
    "df.columns = [\"Отклонение\"]\n",
    "df"
   ]
  },
  {
   "cell_type": "code",
   "execution_count": 225,
   "id": "f8e17ee2",
   "metadata": {},
   "outputs": [
    {
     "name": "stdout",
     "output_type": "stream",
     "text": [
      "<bound method IndexOpsMixin.tolist of 0    -27.26\n",
      "1    -27.16\n",
      "2    -18.05\n",
      "3    -17.43\n",
      "4    -16.02\n",
      "      ...  \n",
      "95    16.19\n",
      "96    20.59\n",
      "97    21.94\n",
      "98    24.02\n",
      "99    26.90\n",
      "Name: Отклонение, Length: 100, dtype: float64>\n"
     ]
    }
   ],
   "source": [
    "# l - Лист отклонений для следующих манипуляций\n",
    "l = df[\"Отклонение\"].to_list\n",
    "print(l) "
   ]
  },
  {
   "cell_type": "code",
   "execution_count": 226,
   "id": "81aff4e0",
   "metadata": {},
   "outputs": [
    {
     "name": "stdout",
     "output_type": "stream",
     "text": [
      "R =  54.16 . Интервал =  4.513333333333333\n"
     ]
    }
   ],
   "source": [
    "# R - Размах\n",
    "# interval_widht - ширина интервала\n",
    "\n",
    "R = df['Отклонение'].max() - df[\"Отклонение\"].min()\n",
    "interval_widht = R/12\n",
    "print(\"R = \", R, '. Интервал = ', interval_widht)"
   ]
  },
  {
   "cell_type": "code",
   "execution_count": 227,
   "id": "41b39f0f",
   "metadata": {},
   "outputs": [
    {
     "name": "stdout",
     "output_type": "stream",
     "text": [
      "[np.float64(-27.26), np.float64(-22.74666666666667), np.float64(-18.233333333333334), np.float64(-13.720000000000002), np.float64(-9.20666666666667), np.float64(-4.693333333333339), np.float64(-0.18000000000000327), np.float64(4.333333333333329), np.float64(8.84666666666666), np.float64(13.359999999999996), np.float64(17.873333333333324), np.float64(22.38666666666666), np.float64(26.899999999999995)]\n",
      "    № интервала Границы интервалов  Частота в интервале  \\\n",
      "0             1   -27.26 : -22.747                    2   \n",
      "1             2  -22.747 : -18.233                    0   \n",
      "2             3   -18.233 : -13.72                    8   \n",
      "3             4    -13.72 : -9.207                    6   \n",
      "4             5    -9.207 : -4.693                   19   \n",
      "5             6     -4.693 : -0.18                   14   \n",
      "6             7      -0.18 : 4.333                   14   \n",
      "7             8      4.333 : 8.847                   22   \n",
      "8             9      8.847 : 13.36                    6   \n",
      "9            10     13.36 : 17.873                    5   \n",
      "10           11    17.873 : 22.387                    2   \n",
      "11           12      22.387 : 26.9                    1   \n",
      "\n",
      "    Частотность в интервале  Середина интервала  \n",
      "0                      0.02              -25.00  \n",
      "1                      0.00              -20.49  \n",
      "2                      0.08              -15.98  \n",
      "3                      0.06              -11.46  \n",
      "4                      0.19               -6.95  \n",
      "5                      0.14               -2.44  \n",
      "6                      0.14                2.08  \n",
      "7                      0.22                6.59  \n",
      "8                      0.06               11.10  \n",
      "9                      0.05               15.62  \n",
      "10                     0.02               20.13  \n",
      "11                     0.01               24.64  \n"
     ]
    }
   ],
   "source": [
    "values = df['Отклонение']\n",
    "\n",
    "min_val = values.min()\n",
    "max_val = values.max()\n",
    "num_intervals = 12\n",
    "\n",
    "# bins - контейнеры интервалов\n",
    "bins = [min_val + i * interval_widht for i in range(num_intervals + 1)]\n",
    "print(bins)\n",
    "\n",
    "# frequencies - частоты\n",
    "frequencies = []\n",
    "\n",
    "# midpoints - средние значения в интервалах\n",
    "midpoints = []\n",
    "\n",
    "# interval_labels - названия границ интервалов\n",
    "interval_labels = []\n",
    "\n",
    "# relative_freqs = частотность\n",
    "relative_freqs = []\n",
    "total = 100\n",
    "\n",
    "# borders - границы интервалов\n",
    "borders = []\n",
    "\n",
    "\n",
    "for i in range(12):\n",
    "    left = bins[i]\n",
    "    right = bins[i+1]\n",
    "    borders.append(left)\n",
    "    \n",
    "    # count - сумма значений отклонений в интервале\n",
    "    count = ((values.round(2) >= left) & (values.round(2) <= right)).sum()\n",
    "\n",
    "    # midpoint - медиана интервала\n",
    "    midpoint = (left + right) / 2\n",
    "    \n",
    "    # rel_freq - частотность в интервале\n",
    "    rel_freq = round(count / total, 2)\n",
    "    \n",
    "    frequencies.append(count)\n",
    "    midpoints.append(round(midpoint, 2))\n",
    "    interval_labels.append(f\"{round(left, 3)} : {round(right, 3)}\")\n",
    "    relative_freqs.append(rel_freq)\n",
    "borders.append(right) \n",
    "result = pd.DataFrame({\n",
    "    \"№ интервала\": range(1, num_intervals + 1),\n",
    "    \"Границы интервалов\": interval_labels,\n",
    "    \"Частота в интервале\": frequencies,\n",
    "    \"Частотность в интервале\": relative_freqs,\n",
    "    \"Середина интервала\": midpoints\n",
    "})\n",
    "\n",
    "print(result)\n",
    "    "
   ]
  },
  {
   "cell_type": "code",
   "execution_count": 228,
   "id": "838e9ea4",
   "metadata": {},
   "outputs": [],
   "source": [
    "result.to_excel('result1.xlsx')"
   ]
  },
  {
   "cell_type": "code",
   "execution_count": 229,
   "id": "e070323e",
   "metadata": {},
   "outputs": [],
   "source": [
    "import matplotlib.pyplot as plt"
   ]
  },
  {
   "cell_type": "code",
   "execution_count": 230,
   "id": "de93af3f",
   "metadata": {},
   "outputs": [
    {
     "data": {
      "image/png": "[encoded data removed]",
      "text/plain": [
       "<Figure size 1000x600 with 1 Axes>"
      ]
     },
     "metadata": {},
     "output_type": "display_data"
    }
   ],
   "source": [
    "x = result['Середина интервала']\n",
    "y = result['Частота в интервале']\n",
    "\n",
    "plt.figure(figsize=(10,6))\n",
    "plt.plot(x,y,'o-')\n",
    "plt.xticks(borders)\n",
    "plt.title('Полигон')\n",
    "plt.xlabel('Интервалы')\n",
    "plt.ylabel('Частота в интервале')\n",
    "plt.grid()\n",
    "plt.show()\n"
   ]
  },
  {
   "cell_type": "code",
   "execution_count": 231,
   "id": "e7aada08",
   "metadata": {},
   "outputs": [
    {
     "data": {
      "image/png": "[encoded data removed]",
      "text/plain": [
       "<Figure size 1000x600 with 1 Axes>"
      ]
     },
     "metadata": {},
     "output_type": "display_data"
    }
   ],
   "source": [
    "x = borders[:-1]  # 12 значений — левые границы\n",
    "width = borders[1] - borders[0]  # если ширина одинакова\n",
    "y = result['Частотность в интервале']\n",
    "plt.figure(figsize=(10, 6))\n",
    "plt.bar(x, y, width=width, align='edge', color='seagreen')\n",
    "\n",
    "plt.title('Гистограмма')\n",
    "plt.xticks(borders, rotation=45)\n",
    "plt.xlabel('Интервалы')\n",
    "plt.ylabel('Частота')\n",
    "plt.grid()\n",
    "plt.show()"
   ]
  },
  {
   "cell_type": "code",
   "execution_count": 232,
   "id": "cb6d7ca2",
   "metadata": {},
   "outputs": [
    {
     "data": {
      "image/png": "[encoded data removed]",
      "text/plain": [
       "<Figure size 1000x600 with 1 Axes>"
      ]
     },
     "metadata": {},
     "output_type": "display_data"
    }
   ],
   "source": [
    "width = borders[1] - borders[0]\n",
    "\n",
    "result['Накопление'] = result['Частотность в интервале'].cumsum()\n",
    "\n",
    "import numpy as np\n",
    "\n",
    "y = np.insert(result['Накопление'].values, 0, 0)\n",
    "y[-1] = 1\n",
    "plt.figure(figsize=(10,6))\n",
    "plt.xticks(borders)\n",
    "plt.title('Ступенчатая диаграмма')\n",
    "plt.xlabel('Интервалы')\n",
    "plt.ylabel('Накопленная частотность')\n",
    "plt.step(borders,y, where='pre', color='salmon')\n",
    "plt.grid()\n"
   ]
  },
  {
   "cell_type": "markdown",
   "id": "8f38a721",
   "metadata": {},
   "source": [
    "### Точечная оценка характеристик распределения по сгруппированным данным\n"
   ]
  },
  {
   "cell_type": "code",
   "execution_count": 233,
   "id": "669e773d",
   "metadata": {},
   "outputs": [
    {
     "name": "stdout",
     "output_type": "stream",
     "text": [
      "X_i:  [-25.0, -20.49, -15.98, -11.46, -6.95, -2.44, 2.08, 6.59, 11.1, 15.62, 20.13, 24.64]\n",
      "V_i : 0      2\n",
      "1      0\n",
      "2      8\n",
      "3      6\n",
      "4     19\n",
      "5     14\n",
      "6     14\n",
      "7     22\n",
      "8      6\n",
      "9      5\n",
      "10     2\n",
      "11     1\n",
      "Name: Частота в интервале, dtype: int64\n",
      "X avg =  -0.2911\n"
     ]
    }
   ],
   "source": [
    "# X_i - лист середин интервалов\n",
    "# x_i - середина интервала\n",
    "X_i = result['Середина интервала'].to_list()\n",
    "l = len(X_i)\n",
    "print(\"X_i: \", X_i)\n",
    "\n",
    "# V_i - лист частот в интервалах\n",
    "# v_i - частота в интервале\n",
    "V_i = result['Частота в интервале']\n",
    "print(\"V_i :\", V_i)\n",
    "\n",
    "# n - число элементов в выборке\n",
    "n = len(df)\n",
    "\n",
    "\n",
    "# sum_x_i_v_i - сумма произведений середин интервалов и частот в интервалах\n",
    "sum_x_i_v_i = 0\n",
    "\n",
    "for x_i, v_i in zip(X_i, V_i):\n",
    "    \n",
    "    sum_x_i_v_i += x_i*v_i\n",
    "\n",
    "x_avg = sum_x_i_v_i/n\n",
    "print(\"X avg = \", round(x_avg, 6))"
   ]
  },
  {
   "cell_type": "code",
   "execution_count": 234,
   "id": "a10c68ac",
   "metadata": {},
   "outputs": [
    {
     "name": "stdout",
     "output_type": "stream",
     "text": [
      "M_0 =  6.59\n"
     ]
    }
   ],
   "source": [
    "# Рассчет моды M_0\n",
    "\n",
    "# max_interv_mid - середина самого многочисленного интервала (таблица pandas)\n",
    "\n",
    "max_interv_mid = result.loc[result['Частота в интервале'] == result['Частота в интервале'].max()]\n",
    "\n",
    "M_0 = pd.to_numeric(max_interv_mid['Середина интервала']).iloc[0]\n",
    "print(\"M_0 = \", M_0)"
   ]
  },
  {
   "cell_type": "code",
   "execution_count": 235,
   "id": "d43e1c93",
   "metadata": {},
   "outputs": [
    {
     "name": "stdout",
     "output_type": "stream",
     "text": [
      "s_2 =  94.7369\n",
      "s =  9.7333\n"
     ]
    }
   ],
   "source": [
    "# Эмпирическая оценка десперсии и среднеквадратического отклонения\n",
    "import math as mt\n",
    "sum_x_i_22_v_i_x_22 = 0\n",
    "for x_i, v_i in zip(X_i, V_i):\n",
    "    sum_x_i_22_v_i_x_22 += ( (x_i**2)* v_i )- x_avg**2\n",
    "    \n",
    "# s_2 - дисперсия\n",
    "s_2 = (1/n) * sum_x_i_22_v_i_x_22\n",
    "print(\"s_2 = \", round(s_2, 4))\n",
    "\n",
    "# s - среднеквадратическое отклонение\n",
    "s = mt.sqrt(s_2)\n",
    "print(\"s = \", round(s,4))\n"
   ]
  },
  {
   "cell_type": "code",
   "execution_count": 236,
   "id": "f723c30b",
   "metadata": {},
   "outputs": [
    {
     "name": "stdout",
     "output_type": "stream",
     "text": [
      "s_2_Shepard =  94.7369\n"
     ]
    }
   ],
   "source": [
    "\n",
    "# Расчет несмещенной поправки и оценки Шеппарда\n",
    "\n",
    "# s_2_Shepard - несмещенная оценка Шепарда\n",
    "s_2_Shepard = s_2 - (interval_widht**2)/12\n",
    "print(\"s_2_Shepard = \", round(s_2, 4))\n",
    "\n"
   ]
  },
  {
   "cell_type": "code",
   "execution_count": 237,
   "id": "6de4dd47",
   "metadata": {},
   "outputs": [
    {
     "name": "stdout",
     "output_type": "stream",
     "text": [
      "Y_i =  [np.float64(-6.999261447562778), np.float64(-6.0), np.float64(-5.000738552437224), np.float64(-3.9992614475627777), np.float64(-3.0), np.float64(-2.000738552437223), np.float64(-0.999261447562777), np.float64(0.0), np.float64(0.999261447562777), np.float64(2.000738552437223), np.float64(3.0), np.float64(3.9992614475627777)]\n"
     ]
    }
   ],
   "source": [
    "# Вычисления моментов по методу \"Ложный нуль\"\n",
    "\n",
    "# c - \"ложный нуль\"\n",
    "c = M_0\n",
    "\n",
    "# Y_i - Лист относительных середин интервалов\n",
    "Y_i = []\n",
    "\n",
    "# y_i - относительная середина интервала\n",
    "\n",
    "for i, x_i in enumerate(X_i):\n",
    "    y_i = (x_i - c)/interval_widht\n",
    "    Y_i.append(y_i)\n",
    "print(\"Y_i = \", Y_i)"
   ]
  },
  {
   "cell_type": "code",
   "execution_count": 238,
   "id": "007c2181",
   "metadata": {},
   "outputs": [
    {
     "name": "stdout",
     "output_type": "stream",
     "text": [
      "Начальный момент h_1 =  -1.5100147710487442\n",
      "Начальный момент h_2 =  6.950236642237346\n",
      "Начальный момент h_3 =  -25.45110946504301\n",
      "Начальный момент h_4 =  136.18995747621963\n",
      "Начальный момент h_5 =  -681.5751802546296\n",
      "Начальный момент h_6 =  4054.4776811743054\n",
      "Начальный момент h_7 =  -23916.725650382094\n",
      "Начальный момент h_8 =  152493.2267266531\n",
      "Начальный момент h_9 =  -979241.7927099451\n",
      "Начальный момент h_10 =  6511812.589573874\n",
      "Начальный момент h_11 =  -43652853.47382273\n",
      "Начальный момент h_12 =  297325549.02614313\n",
      "H_i =  [np.float64(-1.5100147710487442), np.float64(6.950236642237346), np.float64(-25.45110946504301), np.float64(136.18995747621963), np.float64(-681.5751802546296), np.float64(4054.4776811743054), np.float64(-23916.725650382094), np.float64(152493.2267266531), np.float64(-979241.7927099451), np.float64(6511812.589573874), np.float64(-43652853.47382273), np.float64(297325549.02614313)]\n"
     ]
    }
   ],
   "source": [
    "# V_i — список частот в интервалах по 12 интервалам\n",
    "# Y_i — список относительных середин этих интервалов\n",
    "\n",
    "\n",
    "# H_i — список начальных моментов\n",
    "H_i = []\n",
    "\n",
    "for i in range(l):\n",
    "    \n",
    "    # sum_v_i_y_j_i — сумма для каждого момента\n",
    "    sum_v_i_y_j_i = 0\n",
    "    for v_i, y_j in zip(V_i, Y_i):\n",
    "        sum_v_i_y_j_i += (v_i) * (y_j**(i+1))\n",
    "    h_i = sum_v_i_y_j_i/n\n",
    "    print(f\"Начальный момент h_{i+1} = \", h_i)\n",
    "    H_i.append(h_i) \n",
    "print(\"H_i = \", H_i)   \n",
    "    \n",
    "    "
   ]
  },
  {
   "cell_type": "code",
   "execution_count": 239,
   "id": "733999f5",
   "metadata": {},
   "outputs": [
    {
     "name": "stdout",
     "output_type": "stream",
     "text": [
      "m1 =  -0.2251999999999983\n",
      "m2 =  95.13060496000001\n",
      "m3 =  -78.36133416201676\n",
      "m4 =  25706.55392395173\n"
     ]
    }
   ],
   "source": [
    "# Определение среднего арифметического x и центральных эмпирических моментов m2, m3, m4\n",
    "\n",
    "m11 = interval_widht*H_i[0] + c\n",
    "m12 = x_avg\n",
    "print(\"m1 = \", m11)\n",
    "\n",
    "\n",
    "m2 = s**2\n",
    "m22 = interval_widht**2 * (H_i[1]-H_i[0]**2)\n",
    "print(\"m2 = \", m22)\n",
    "\n",
    "m3 = interval_widht**3 * (H_i[2] - 3 * H_i[1]*H_i[0] + 2 * H_i[0]**3)\n",
    "print(\"m3 = \", m3)\n",
    "\n",
    "m4 = interval_widht**4 * (H_i[3] - 4 * H_i[0]*H_i[2] + 6 * H_i[0]**2 * H_i[1] - 3 * H_i[0]**4)\n",
    "print(\"m4 = \", m4)\n",
    " "
   ]
  },
  {
   "cell_type": "code",
   "execution_count": 240,
   "id": "a1e8fbf9",
   "metadata": {},
   "outputs": [
    {
     "name": "stdout",
     "output_type": "stream",
     "text": [
      "S_k =  -0.08498128064765316\n",
      "E_k =  -0.13578381362151504\n"
     ]
    }
   ],
   "source": [
    "# Оценка ассиметрии и эксцесса\n",
    "\n",
    "S_k = m3/s**3\n",
    "\n",
    "E_k = (m4/s**4) - 3\n",
    "\n",
    "print(\"S_k = \", S_k)\n",
    "print(\"E_k = \", E_k)"
   ]
  },
  {
   "cell_type": "markdown",
   "id": "31cd8d60",
   "metadata": {},
   "source": [
    "### Построение доверительных интервалов"
   ]
  },
  {
   "cell_type": "code",
   "execution_count": 250,
   "id": "c3ac86b0",
   "metadata": {},
   "outputs": [
    {
     "name": "stdout",
     "output_type": "stream",
     "text": [
      "<class 'pandas.core.series.Series'>\n",
      "[-14, 0, -40, -24, -57, -28, -14, 0, 6, 10, 6, 4]\n"
     ]
    },
    {
     "ename": "TypeError",
     "evalue": "'list' object is not callable",
     "output_type": "error",
     "traceback": [
      "\u001b[1;31m---------------------------------------------------------------------------\u001b[0m",
      "\u001b[1;31mTypeError\u001b[0m                                 Traceback (most recent call last)",
      "Cell \u001b[1;32mIn[250], line 35\u001b[0m\n\u001b[0;32m     25\u001b[0m \u001b[38;5;28mprint\u001b[39m(\u001b[38;5;28mtype\u001b[39m(V_i))\n\u001b[0;32m     26\u001b[0m \u001b[38;5;28mprint\u001b[39m(v_i_y_i)\n\u001b[0;32m     27\u001b[0m sum_row \u001b[38;5;241m=\u001b[39m {\n\u001b[0;32m     28\u001b[0m     \u001b[38;5;124m\"\u001b[39m\u001b[38;5;124m№ интервала\u001b[39m\u001b[38;5;124m\"\u001b[39m: \u001b[38;5;124m\"\u001b[39m\u001b[38;5;124mСуммы\u001b[39m\u001b[38;5;124m\"\u001b[39m,\n\u001b[0;32m     29\u001b[0m     \u001b[38;5;124m\"\u001b[39m\u001b[38;5;124mСередины интервалов\u001b[39m\u001b[38;5;124m\"\u001b[39m: \u001b[38;5;124m\"\u001b[39m\u001b[38;5;124m\"\u001b[39m, \n\u001b[0;32m     30\u001b[0m     \u001b[38;5;124m\"\u001b[39m\u001b[38;5;124mОтнос. серед. интерв. y_i\u001b[39m\u001b[38;5;124m\"\u001b[39m: \u001b[38;5;124m\"\u001b[39m\u001b[38;5;124m\"\u001b[39m, \n\u001b[0;32m     31\u001b[0m     \u001b[38;5;124m\"\u001b[39m\u001b[38;5;124m(y_i)^2\u001b[39m\u001b[38;5;124m\"\u001b[39m: \u001b[38;5;124m\"\u001b[39m\u001b[38;5;124m\"\u001b[39m,\n\u001b[0;32m     32\u001b[0m     \u001b[38;5;124m\"\u001b[39m\u001b[38;5;124m(y_i)^3\u001b[39m\u001b[38;5;124m\"\u001b[39m: \u001b[38;5;124m\"\u001b[39m\u001b[38;5;124m\"\u001b[39m,\n\u001b[0;32m     33\u001b[0m     \u001b[38;5;124m\"\u001b[39m\u001b[38;5;124m(y_i)^4\u001b[39m\u001b[38;5;124m\"\u001b[39m: \u001b[38;5;124m\"\u001b[39m\u001b[38;5;124m\"\u001b[39m,\n\u001b[0;32m     34\u001b[0m     \u001b[38;5;124m\"\u001b[39m\u001b[38;5;124mЧастота в интервале v_i\u001b[39m\u001b[38;5;124m\"\u001b[39m: V_i\u001b[38;5;241m.\u001b[39msum(),\n\u001b[1;32m---> 35\u001b[0m     \u001b[38;5;124m\"\u001b[39m\u001b[38;5;124mv_i*y_i\u001b[39m\u001b[38;5;124m\"\u001b[39m: \u001b[38;5;28;43msum\u001b[39;49m\u001b[43m(\u001b[49m\u001b[43mv_i_y_i\u001b[49m\u001b[43m)\u001b[49m,\n\u001b[0;32m     36\u001b[0m     \u001b[38;5;124m\"\u001b[39m\u001b[38;5;124mv_i*(y_i)^2\u001b[39m\u001b[38;5;124m\"\u001b[39m: \u001b[38;5;28msum\u001b[39m(v_i_y_i_2),\n\u001b[0;32m     37\u001b[0m     \u001b[38;5;124m\"\u001b[39m\u001b[38;5;124mv_i*(y_i)^3\u001b[39m\u001b[38;5;124m\"\u001b[39m: \u001b[38;5;28msum\u001b[39m(v_i_y_i_3),\n\u001b[0;32m     38\u001b[0m     \u001b[38;5;124m\"\u001b[39m\u001b[38;5;124mv_i*(y_i)^4\u001b[39m\u001b[38;5;124m\"\u001b[39m: \u001b[38;5;28msum\u001b[39m(v_i_y_i_4),\n\u001b[0;32m     39\u001b[0m }\n\u001b[0;32m     42\u001b[0m table_4\u001b[38;5;241m.\u001b[39mloc[\u001b[38;5;28mlen\u001b[39m(table_4)] \u001b[38;5;241m=\u001b[39m sum_row\n\u001b[0;32m     44\u001b[0m labels_row \u001b[38;5;241m=\u001b[39m {\n\u001b[0;32m     45\u001b[0m     \u001b[38;5;124m\"\u001b[39m\u001b[38;5;124m№ интервала\u001b[39m\u001b[38;5;124m\"\u001b[39m: \u001b[38;5;124m\"\u001b[39m\u001b[38;5;124mОбозначение сумм\u001b[39m\u001b[38;5;124m\"\u001b[39m,\n\u001b[0;32m     46\u001b[0m     \u001b[38;5;124m\"\u001b[39m\u001b[38;5;124mСередины интервалов\u001b[39m\u001b[38;5;124m\"\u001b[39m: \u001b[38;5;124m\"\u001b[39m\u001b[38;5;124m\"\u001b[39m,\n\u001b[1;32m   (...)\u001b[0m\n\u001b[0;32m     55\u001b[0m     \u001b[38;5;124m\"\u001b[39m\u001b[38;5;124mv_i*(y_i)^4\u001b[39m\u001b[38;5;124m\"\u001b[39m: \u001b[38;5;124m\"\u001b[39m\u001b[38;5;124mΣ4\u001b[39m\u001b[38;5;124m\"\u001b[39m,\n\u001b[0;32m     56\u001b[0m }\n",
      "\u001b[1;31mTypeError\u001b[0m: 'list' object is not callable"
     ]
    }
   ],
   "source": [
    "Y_i = [ round(elem) for elem in Y_i]\n",
    "Y_i_2 = [elem**2 for elem in Y_i]\n",
    "Y_i_3 = [elem**3 for elem in Y_i]\n",
    "Y_i_4 = [elem**4 for elem in Y_i]\n",
    "v_i_y_i = [v_i*y_i for v_i, y_i in zip(V_i, Y_i)]\n",
    "v_i_y_i_2 = [v_i*(y_i**2) for v_i, y_i in zip(V_i, Y_i)]\n",
    "v_i_y_i_3 = [v_i*(y_i**3) for v_i, y_i in zip(V_i, Y_i)]\n",
    "v_i_y_i_4 = [v_i*(y_i**4) for v_i, y_i in zip(V_i, Y_i)]\n",
    "\n",
    "table_4 = pd.DataFrame(\n",
    "    {\n",
    "    \"№ интервала\": list(range(1, len(Y_i) + 1)),\n",
    "    \"Середины интервалов\": midpoints, \n",
    "    \"Относ. серед. интерв. y_i\": Y_i, \n",
    "    \"(y_i)^2\": Y_i_2,\n",
    "    \"(y_i)^3\": Y_i_3,\n",
    "    \"(y_i)^4\": Y_i_4,\n",
    "    \"Частота в интервале v_i\": V_i,\n",
    "    \"v_i*y_i\": v_i_y_i,\n",
    "    \"v_i*(y_i)^2\": v_i_y_i_2,\n",
    "    \"v_i*(y_i)^3\": v_i_y_i_3,\n",
    "    \"v_i*(y_i)^4\": v_i_y_i_4,\n",
    "    }\n",
    ")\n",
    "print(type(V_i))\n",
    "print(v_i_y_i)\n",
    "sum_row = {\n",
    "    \"№ интервала\": \"Суммы\",\n",
    "    \"Середины интервалов\": \"\", \n",
    "    \"Относ. серед. интерв. y_i\": \"\", \n",
    "    \"(y_i)^2\": \"\",\n",
    "    \"(y_i)^3\": \"\",\n",
    "    \"(y_i)^4\": \"\",\n",
    "    \"Частота в интервале v_i\": V_i.sum(),\n",
    "    \"v_i*y_i\": sum(v_i_y_i),\n",
    "    \"v_i*(y_i)^2\": sum(v_i_y_i_2),\n",
    "    \"v_i*(y_i)^3\": sum(v_i_y_i_3),\n",
    "    \"v_i*(y_i)^4\": sum(v_i_y_i_4),\n",
    "}\n",
    "\n",
    "\n",
    "table_4.loc[len(table_4)] = sum_row\n",
    "\n",
    "labels_row = {\n",
    "    \"№ интервала\": \"Обозначение сумм\",\n",
    "    \"Середины интервалов\": \"\",\n",
    "    \"Относ. серед. интерв. y_i\": \"\",\n",
    "    \"(y_i)^2\": \"\",\n",
    "    \"(y_i)^3\": \"\",\n",
    "    \"(y_i)^4\": \"\",\n",
    "    \"Частота в интервале v_i\": \"Σ0\",\n",
    "    \"v_i*y_i\": \"Σ1\",\n",
    "    \"v_i*(y_i)^2\": \"Σ2\",\n",
    "    \"v_i*(y_i)^3\": \"Σ3\",\n",
    "    \"v_i*(y_i)^4\": \"Σ4\",\n",
    "}\n",
    "\n",
    "table_4.loc[len(table_4)] = labels_row\n",
    "h_1 = H_i[0]\n",
    "moments_row = {\n",
    "    \"№ интервала\": \"Начальные моменты в относительном выражении\",\n",
    "    \"Середины интервалов\": \"\",\n",
    "    \"Относ. серед. интерв. y_i\": \"\",\n",
    "    \"(y_i)^2\": \"\",\n",
    "    \"(y_i)^3\": \"\",\n",
    "    \"(y_i)^4\": \"\",\n",
    "    \"Частота в интервале v_i\": \"\",\n",
    "    \"v_i*y_i\": H_i[0],\n",
    "    \"v_i*(y_i)^2\": H_i[1],\n",
    "    \"v_i*(y_i)^3\": H_i[2],\n",
    "    \"v_i*(y_i)^4\": H_i[3],\n",
    "}\n",
    "table_4.loc[len(table_4)] = moments_row\n",
    "\n",
    "labels_2_row = {\n",
    "    \"№ интервала\": \"Обозначения относительных начальных моментов\",\n",
    "    \"Середины интервалов\": \"\",\n",
    "    \"Относ. серед. интерв. y_i\": \"\",\n",
    "    \"(y_i)^2\": \"\",\n",
    "    \"(y_i)^3\": \"\",\n",
    "    \"(y_i)^4\": \"\",\n",
    "    \"Частота в интервале v_i\": \"\",\n",
    "    \"v_i*y_i\": \"h1\",\n",
    "    \"v_i*(y_i)^2\": \"h2\",\n",
    "    \"v_i*(y_i)^3\": \"h3\",\n",
    "    \"v_i*(y_i)^4\": \"h4\",\n",
    "}\n",
    "table_4.loc[len(table_4)] = labels_2_row\n",
    "\n",
    "print(\"\\nТаблица 4\\n\")\n",
    "table_4"
   ]
  },
  {
   "cell_type": "code",
   "execution_count": null,
   "id": "7ab61179",
   "metadata": {},
   "outputs": [],
   "source": [
    "# Построение таблиц для первых 20 элементов выборки\n",
    "\n",
    "# Таблица аналог первой таблицы для первых 20 элементов выборки\n",
    "n_20 = [\n",
    "6.441, 3.294, 3.366, 0.654, -4.401, \n",
    "-14.09, -2.312, -8.613, 8.328, -7.679,\n",
    "-3.83, 7.709, -13.57, -3.386, 3.764,\n",
    "20.59, -18.05, -0.9333, 3.421, 4.396\n",
    "]\n",
    "\n",
    "table_5 = pd.DataFrame({\n",
    "    \"№\": list(range(1, len(n_20) + 1)),\n",
    "    \"x_i\": n_20\n",
    "    })\n",
    "table_5\n",
    "\n"
   ]
  },
  {
   "cell_type": "code",
   "execution_count": null,
   "id": "9447eef2",
   "metadata": {},
   "outputs": [],
   "source": [
    "# Таблица аналог упорядоченной таблицы\n",
    "\n",
    "n_20_sort = sorted(n_20)\n",
    "\n",
    "table_6 = pd.DataFrame({\n",
    "    \"№\": list(range(1, len(n_20) + 1)),\n",
    "    \"x_i\": n_20_sort,\n",
    "    \"x_i^2\": [elem**2 for elem in n_20_sort]\n",
    "    })\n",
    "\n",
    "table_6"
   ]
  },
  {
   "cell_type": "code",
   "execution_count": null,
   "id": "8c9f792c",
   "metadata": {},
   "outputs": [],
   "source": [
    "# Коэффициенты Стьюдента для 19 степеней свободы \n",
    "\n",
    "tqn_1_90 = 1.72913281152\n",
    "tqn_1_95 = 2.09302405441 # берем его\n",
    "tqn_1_99 = 2.86093460645\n",
    "tqn_1_999 = 3.88340584948"
   ]
  },
  {
   "cell_type": "code",
   "execution_count": null,
   "id": "f4c17363",
   "metadata": {},
   "outputs": [],
   "source": [
    "\n",
    "x_avg_20 = table_5[\"x_i\"].mean()\n",
    "\n",
    "sum_x_i_2 = 0\n",
    "for x in table_5[\"x_i\"]:\n",
    "    sum_x_i_2 += x**2\n",
    "\n",
    "    \n",
    "s_20 = mt.sqrt((sum_x_i_2 / len(table_5)) - x_avg_20**2)\n",
    "\n",
    "print(f\"x_avg_20 = {x_avg_20}\\ns_20 = {s_20}\")"
   ]
  },
  {
   "cell_type": "code",
   "execution_count": null,
   "id": "b602f215",
   "metadata": {},
   "outputs": [],
   "source": [
    "# Доверительный интервал\n",
    "\n"
   ]
  }
 ],
 "metadata": {
  "kernelspec": {
   "display_name": "Python 3",
   "language": "python",
   "name": "python3"
  },
  "language_info": {
   "codemirror_mode": {
    "name": "ipython",
    "version": 3
   },
   "file_extension": ".py",
   "mimetype": "text/x-python",
   "name": "python",
   "nbconvert_exporter": "python",
   "pygments_lexer": "ipython3",
   "version": "3.11.9"
  }
 },
 "nbformat": 4,
 "nbformat_minor": 5
}
